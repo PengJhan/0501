{
 "cells": [
  {
   "cell_type": "code",
   "execution_count": 4,
   "metadata": {},
   "outputs": [
    {
     "name": "stdout",
     "output_type": "stream",
     "text": [
      "請輸入第一個數字：25\n",
      "請輸入第二個數字：2\n",
      "你要運算的運算符號(+,-,*,/)：l\n",
      "符號輸入錯誤，請重新輸入!!!\n",
      "你要運算的運算符號(+,-,*,/)：5\n",
      "符號輸入錯誤，請重新輸入!!!\n",
      "你要運算的運算符號(+,-,*,/)：*\n",
      "50\n"
     ]
    }
   ],
   "source": [
    "def add(arg1,arg2):\n",
    "    return arg1+arg2\n",
    "def minus(arg1,arg2):\n",
    "    return arg1-arg2\n",
    "def multi(arg1,arg2):\n",
    "    return arg1*arg2\n",
    "def div(arg1,arg2):\n",
    "    return arg1/arg2\n",
    "\n",
    "num1=eval(input(\"請輸入第一個數字：\"))\n",
    "num2=eval(input(\"請輸入第二個數字：\"))\n",
    "while(True):\n",
    "    choice=input(\"你要運算的運算符號(+,-,*,/)：\")\n",
    "    if choice==\"+\":\n",
    "        print(add(num1,num2))\n",
    "        break\n",
    "    elif choice==\"-\":\n",
    "        print(minus(num1,num2))\n",
    "        break\n",
    "    elif choice==\"*\":\n",
    "        print(multi(num1,num2))\n",
    "        break\n",
    "    elif choice==\"/\":\n",
    "        print(div(num1,num2))\n",
    "        break\n",
    "    else:\n",
    "        print(\"符號輸入錯誤，請重新輸入!!!\")\n"
   ]
  },
  {
   "cell_type": "code",
   "execution_count": null,
   "metadata": {},
   "outputs": [],
   "source": []
  }
 ],
 "metadata": {
  "kernelspec": {
   "display_name": "Python 3",
   "language": "python",
   "name": "python3"
  },
  "language_info": {
   "codemirror_mode": {
    "name": "ipython",
    "version": 3
   },
   "file_extension": ".py",
   "mimetype": "text/x-python",
   "name": "python",
   "nbconvert_exporter": "python",
   "pygments_lexer": "ipython3",
   "version": "3.7.3"
  }
 },
 "nbformat": 4,
 "nbformat_minor": 2
}
